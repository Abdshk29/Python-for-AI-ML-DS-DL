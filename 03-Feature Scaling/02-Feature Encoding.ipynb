{
 "cells": [
  {
   "cell_type": "markdown",
   "metadata": {},
   "source": [
    "# Feature Encoding"
   ]
  },
  {
   "cell_type": "markdown",
   "metadata": {},
   "source": [
    "## 1. One Hot Encoding"
   ]
  },
  {
   "cell_type": "code",
   "execution_count": 3,
   "metadata": {},
   "outputs": [
    {
     "name": "stdout",
     "output_type": "stream",
     "text": [
      "        Mobiles\n",
      "0  Google Pixel\n",
      "1        IPhone\n",
      "2       Samsung\n",
      "3          Vivo\n",
      "   Mobiles_Google Pixel  Mobiles_IPhone  Mobiles_Samsung  Mobiles_Vivo\n",
      "0                  True           False            False         False\n",
      "1                 False            True            False         False\n",
      "2                 False           False             True         False\n",
      "3                 False           False            False          True\n"
     ]
    }
   ],
   "source": [
    "import pandas as pd\n",
    "#Sample Data\n",
    "data = {'Mobiles':['Google Pixel','IPhone','Samsung','Vivo']}\n",
    "df = pd.DataFrame(data)\n",
    "print(df)\n",
    "#One Hot encoding\n",
    "encoded_data = pd.get_dummies(df, columns=[\"Mobiles\"])\n",
    "print(encoded_data)"
   ]
  },
  {
   "cell_type": "markdown",
   "metadata": {},
   "source": [
    "## 2. Label Encoding"
   ]
  },
  {
   "cell_type": "code",
   "execution_count": 7,
   "metadata": {},
   "outputs": [
    {
     "name": "stdout",
     "output_type": "stream",
     "text": [
      "        Mobiles\n",
      "0  Google Pixel\n",
      "1        IPhone\n",
      "2       Samsung\n",
      "3          Vivo\n",
      "4  Google Pixel\n",
      "        Mobiles  Mobile_Encoded\n",
      "0  Google Pixel               0\n",
      "1        IPhone               1\n",
      "2       Samsung               2\n",
      "3          Vivo               3\n",
      "4  Google Pixel               0\n"
     ]
    }
   ],
   "source": [
    "from sklearn.preprocessing import LabelEncoder\n",
    "# Sample Data\n",
    "data = {'Mobiles':['Google Pixel','IPhone','Samsung','Vivo', 'Google Pixel']}\n",
    "df = pd.DataFrame(data)\n",
    "print(df)\n",
    "#Label Encoding\n",
    "label_encoder = LabelEncoder()  \n",
    "df['Mobile_Encoded'] = label_encoder.fit_transform(df['Mobiles'])\n",
    "print(df)"
   ]
  },
  {
   "cell_type": "markdown",
   "metadata": {},
   "source": [
    "## 3. Ordinal Encoding"
   ]
  },
  {
   "cell_type": "code",
   "execution_count": 9,
   "metadata": {},
   "outputs": [
    {
     "name": "stdout",
     "output_type": "stream",
     "text": [
      "     Size\n",
      "0   Small\n",
      "1  Medium\n",
      "2   Large\n",
      "3  Medium\n",
      "4   Small\n",
      "     Size  Size_Encoded\n",
      "0   Small           0.0\n",
      "1  Medium           1.0\n",
      "2   Large           2.0\n",
      "3  Medium           1.0\n",
      "4   Small           0.0\n"
     ]
    }
   ],
   "source": [
    "from sklearn.preprocessing import OrdinalEncoder\n",
    "# Sample Data\n",
    "data = {'Size':['Small','Medium','Large','Medium', 'Small']}\n",
    "df = pd.DataFrame(data)\n",
    "print(df)\n",
    "#Label Encoding\n",
    "ordinal_encoder = OrdinalEncoder(categories=[['Small', 'Medium', 'Large']])  \n",
    "df['Size_Encoded'] = ordinal_encoder.fit_transform(df[['Size']])\n",
    "print(df)"
   ]
  }
 ],
 "metadata": {
  "kernelspec": {
   "display_name": "Python 3",
   "language": "python",
   "name": "python3"
  },
  "language_info": {
   "codemirror_mode": {
    "name": "ipython",
    "version": 3
   },
   "file_extension": ".py",
   "mimetype": "text/x-python",
   "name": "python",
   "nbconvert_exporter": "python",
   "pygments_lexer": "ipython3",
   "version": "3.12.1"
  }
 },
 "nbformat": 4,
 "nbformat_minor": 2
}
