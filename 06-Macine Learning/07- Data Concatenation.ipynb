{
 "cells": [
  {
   "cell_type": "markdown",
   "metadata": {},
   "source": [
    "# Data Concatenation\n",
    "Data concatenation is the process of combining datasets by stacking them either vertically (adding rows) or horizontally (adding columns)."
   ]
  },
  {
   "cell_type": "code",
   "execution_count": 7,
   "metadata": {},
   "outputs": [],
   "source": [
    "# import libraries\n",
    "import pandas as pd"
   ]
  },
  {
   "cell_type": "code",
   "execution_count": 8,
   "metadata": {},
   "outputs": [],
   "source": [
    "# First dataset\n",
    "data1 = {'Name': ['Abdullah', 'Ahmad', 'Ali'], 'Age': [21, 20, 22]}"
   ]
  },
  {
   "cell_type": "code",
   "execution_count": 9,
   "metadata": {},
   "outputs": [],
   "source": [
    "# Second Dataset\n",
    "data2 = {'Name': ['Sana', 'Aisha', 'Hajra'], 'Age': [21, 20, 22]}"
   ]
  },
  {
   "cell_type": "code",
   "execution_count": 10,
   "metadata": {},
   "outputs": [],
   "source": [
    "# Third Dataset\n",
    "data3 = {'City': ['Faisalabad', 'Quetta', 'Karachi'], 'Province': ['Punjab', 'Balochistan', 'Sindh']}"
   ]
  },
  {
   "cell_type": "code",
   "execution_count": 11,
   "metadata": {},
   "outputs": [],
   "source": [
    "# Converting datasets to pandas Dataframe\n",
    "df1 = pd.DataFrame(data1)\n",
    "df2 = pd.DataFrame(data2)\n",
    "df3 = pd.DataFrame(data3)"
   ]
  },
  {
   "cell_type": "code",
   "execution_count": 12,
   "metadata": {},
   "outputs": [],
   "source": [
    "# Concatenating rows\n",
    "Concatenated_rows = pd.concat([df1, df2])"
   ]
  },
  {
   "cell_type": "code",
   "execution_count": 13,
   "metadata": {},
   "outputs": [],
   "source": [
    "# Concatenating Columns\n",
    "Concatenated_columns = pd.concat([df1, df3], axis=1)"
   ]
  },
  {
   "cell_type": "code",
   "execution_count": 15,
   "metadata": {},
   "outputs": [
    {
     "name": "stdout",
     "output_type": "stream",
     "text": [
      "       Name  Age\n",
      "0  Abdullah   21\n",
      "1     Ahmad   20\n",
      "2       Ali   22\n",
      "0      Sana   21\n",
      "1     Aisha   20\n",
      "2     Hajra   22\n",
      "--------------------\n",
      "       Name  Age        City     Province\n",
      "0  Abdullah   21  Faisalabad       Punjab\n",
      "1     Ahmad   20      Quetta  Balochistan\n",
      "2       Ali   22     Karachi        Sindh\n"
     ]
    }
   ],
   "source": [
    "print(Concatenated_rows)\n",
    "print(\"--------------------\")\n",
    "print(Concatenated_columns)"
   ]
  }
 ],
 "metadata": {
  "kernelspec": {
   "display_name": "Python 3",
   "language": "python",
   "name": "python3"
  },
  "language_info": {
   "codemirror_mode": {
    "name": "ipython",
    "version": 3
   },
   "file_extension": ".py",
   "mimetype": "text/x-python",
   "name": "python",
   "nbconvert_exporter": "python",
   "pygments_lexer": "ipython3",
   "version": "3.12.1"
  }
 },
 "nbformat": 4,
 "nbformat_minor": 2
}
