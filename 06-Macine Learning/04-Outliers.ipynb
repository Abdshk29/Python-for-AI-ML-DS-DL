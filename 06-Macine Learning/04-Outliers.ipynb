{
 "cells": [
  {
   "cell_type": "markdown",
   "metadata": {},
   "source": [
    "# Outliers"
   ]
  },
  {
   "cell_type": "markdown",
   "metadata": {},
   "source": [
    "Outliers are data points that significantly differ from the rest of the dataset, often lying far from the central tendency (mean or median).\n",
    "If outliers are not handled in data, they can distort statistical analysis, skew results, reduce model accuracy, and lead to incorrect conclusions by overemphasizing or underrepresenting certain patterns."
   ]
  },
  {
   "cell_type": "markdown",
   "metadata": {},
   "source": [
    "Outliers are also referred to by different names such as:\n",
    "1. Anomalies\n",
    "2. Deviations\n",
    "3. Extremes\n",
    "4. Aberrations\n",
    "5. Exceptions\n",
    "6. Irregualrities"
   ]
  },
  {
   "cell_type": "markdown",
   "metadata": {},
   "source": [
    "There are different types of outliers:\n",
    "* **Univariate outliers**: These are values that are far away from the mean in a single variable.\n",
    "* **Multivariate outliers**: These are values that are far away from the mean in multiple variables.\n",
    "* **Clustered outliers**: These are values that are far away from the mean in a single variable, but are in the same cluster.\n",
    "* **Contextual outliers**: These are values that are far away from the mean in a single variable.\n",
    "* **Global Outliers** : Data points that deviate significantly from the rest of the dataset in a global context.\n",
    "\n",
    "* **Local outliers**:  also known as local outlier factors (LOFs), are data points that appear normal globally but behave anomalously within a local region of the data.\n",
    "\n",
    "* **Recurrent outliers** :These are data points that repeatedly appear as anomalies over time, often following a certain pattern or in response to a recurring event. These outliers may occur at regular intervals but are still considered anomalies compared to the rest of the data.\n",
    "\n",
    "* **Periodic outliers** :They are similar in that they occur at regular time intervals, but unlike recurrent outliers, they are more tied to a predictable cycle or seasonality, such as spikes in demand during holidays or unusual temperature readings during specific seasons.\n",
    "\n",
    "\n"
   ]
  },
  {
   "cell_type": "markdown",
   "metadata": {},
   "source": [
    "#### We will now handle the outliers using numpy and pandas only."
   ]
  },
  {
   "cell_type": "code",
   "execution_count": 8,
   "metadata": {},
   "outputs": [
    {
     "data": {
      "text/html": [
       "<div>\n",
       "<style scoped>\n",
       "    .dataframe tbody tr th:only-of-type {\n",
       "        vertical-align: middle;\n",
       "    }\n",
       "\n",
       "    .dataframe tbody tr th {\n",
       "        vertical-align: top;\n",
       "    }\n",
       "\n",
       "    .dataframe thead th {\n",
       "        text-align: right;\n",
       "    }\n",
       "</style>\n",
       "<table border=\"1\" class=\"dataframe\">\n",
       "  <thead>\n",
       "    <tr style=\"text-align: right;\">\n",
       "      <th></th>\n",
       "      <th>Age</th>\n",
       "    </tr>\n",
       "  </thead>\n",
       "  <tbody>\n",
       "    <tr>\n",
       "      <th>0</th>\n",
       "      <td>20</td>\n",
       "    </tr>\n",
       "    <tr>\n",
       "      <th>1</th>\n",
       "      <td>21</td>\n",
       "    </tr>\n",
       "    <tr>\n",
       "      <th>2</th>\n",
       "      <td>23</td>\n",
       "    </tr>\n",
       "    <tr>\n",
       "      <th>3</th>\n",
       "      <td>24</td>\n",
       "    </tr>\n",
       "    <tr>\n",
       "      <th>4</th>\n",
       "      <td>25</td>\n",
       "    </tr>\n",
       "    <tr>\n",
       "      <th>5</th>\n",
       "      <td>27</td>\n",
       "    </tr>\n",
       "    <tr>\n",
       "      <th>6</th>\n",
       "      <td>29</td>\n",
       "    </tr>\n",
       "    <tr>\n",
       "      <th>7</th>\n",
       "      <td>30</td>\n",
       "    </tr>\n",
       "    <tr>\n",
       "      <th>8</th>\n",
       "      <td>31</td>\n",
       "    </tr>\n",
       "    <tr>\n",
       "      <th>9</th>\n",
       "      <td>32</td>\n",
       "    </tr>\n",
       "    <tr>\n",
       "      <th>10</th>\n",
       "      <td>33</td>\n",
       "    </tr>\n",
       "    <tr>\n",
       "      <th>11</th>\n",
       "      <td>50</td>\n",
       "    </tr>\n",
       "  </tbody>\n",
       "</table>\n",
       "</div>"
      ],
      "text/plain": [
       "    Age\n",
       "0    20\n",
       "1    21\n",
       "2    23\n",
       "3    24\n",
       "4    25\n",
       "5    27\n",
       "6    29\n",
       "7    30\n",
       "8    31\n",
       "9    32\n",
       "10   33\n",
       "11   50"
      ]
     },
     "execution_count": 8,
     "metadata": {},
     "output_type": "execute_result"
    }
   ],
   "source": [
    "# Step 1: Import the required libraries\n",
    "import pandas as pd\n",
    "import numpy as np\n",
    "\n",
    "# Step 2: Create Dataframe\n",
    "df = pd.DataFrame({\"Age\": [20, 21, 23, 24, 25, 27, 29, 30, 31, 32, 33, 50]})\n",
    "df"
   ]
  },
  {
   "cell_type": "code",
   "execution_count": 9,
   "metadata": {},
   "outputs": [
    {
     "data": {
      "text/html": [
       "<div>\n",
       "<style scoped>\n",
       "    .dataframe tbody tr th:only-of-type {\n",
       "        vertical-align: middle;\n",
       "    }\n",
       "\n",
       "    .dataframe tbody tr th {\n",
       "        vertical-align: top;\n",
       "    }\n",
       "\n",
       "    .dataframe thead th {\n",
       "        text-align: right;\n",
       "    }\n",
       "</style>\n",
       "<table border=\"1\" class=\"dataframe\">\n",
       "  <thead>\n",
       "    <tr style=\"text-align: right;\">\n",
       "      <th></th>\n",
       "      <th>Age</th>\n",
       "      <th>Z-Score</th>\n",
       "    </tr>\n",
       "  </thead>\n",
       "  <tbody>\n",
       "    <tr>\n",
       "      <th>0</th>\n",
       "      <td>20</td>\n",
       "      <td>-1.148725</td>\n",
       "    </tr>\n",
       "    <tr>\n",
       "      <th>1</th>\n",
       "      <td>21</td>\n",
       "      <td>-1.017442</td>\n",
       "    </tr>\n",
       "    <tr>\n",
       "      <th>2</th>\n",
       "      <td>23</td>\n",
       "      <td>-0.754876</td>\n",
       "    </tr>\n",
       "    <tr>\n",
       "      <th>3</th>\n",
       "      <td>24</td>\n",
       "      <td>-0.623594</td>\n",
       "    </tr>\n",
       "    <tr>\n",
       "      <th>4</th>\n",
       "      <td>25</td>\n",
       "      <td>-0.492311</td>\n",
       "    </tr>\n",
       "    <tr>\n",
       "      <th>5</th>\n",
       "      <td>27</td>\n",
       "      <td>-0.229745</td>\n",
       "    </tr>\n",
       "    <tr>\n",
       "      <th>6</th>\n",
       "      <td>29</td>\n",
       "      <td>0.032821</td>\n",
       "    </tr>\n",
       "    <tr>\n",
       "      <th>7</th>\n",
       "      <td>30</td>\n",
       "      <td>0.164104</td>\n",
       "    </tr>\n",
       "    <tr>\n",
       "      <th>8</th>\n",
       "      <td>31</td>\n",
       "      <td>0.295386</td>\n",
       "    </tr>\n",
       "    <tr>\n",
       "      <th>9</th>\n",
       "      <td>32</td>\n",
       "      <td>0.426669</td>\n",
       "    </tr>\n",
       "    <tr>\n",
       "      <th>10</th>\n",
       "      <td>33</td>\n",
       "      <td>0.557952</td>\n",
       "    </tr>\n",
       "    <tr>\n",
       "      <th>11</th>\n",
       "      <td>50</td>\n",
       "      <td>2.789761</td>\n",
       "    </tr>\n",
       "  </tbody>\n",
       "</table>\n",
       "</div>"
      ],
      "text/plain": [
       "    Age   Z-Score\n",
       "0    20 -1.148725\n",
       "1    21 -1.017442\n",
       "2    23 -0.754876\n",
       "3    24 -0.623594\n",
       "4    25 -0.492311\n",
       "5    27 -0.229745\n",
       "6    29  0.032821\n",
       "7    30  0.164104\n",
       "8    31  0.295386\n",
       "9    32  0.426669\n",
       "10   33  0.557952\n",
       "11   50  2.789761"
      ]
     },
     "execution_count": 9,
     "metadata": {},
     "output_type": "execute_result"
    }
   ],
   "source": [
    "# Step 3: Calculate the mean and standard deviation\n",
    "mean = np.mean(df['Age'])\n",
    "std = np.std(df['Age'])\n",
    "\n",
    "# Step 4: Calculate the Z- Score\n",
    "df['Z-Score'] = (df['Age'] - mean) / std\n",
    "df"
   ]
  },
  {
   "cell_type": "code",
   "execution_count": 10,
   "metadata": {},
   "outputs": [
    {
     "name": "stdout",
     "output_type": "stream",
     "text": [
      "---------------------------------------\n",
      "Here is the data with outliers:\n",
      "     Age   Z-Score\n",
      "0    20 -1.148725\n",
      "1    21 -1.017442\n",
      "2    23 -0.754876\n",
      "3    24 -0.623594\n",
      "4    25 -0.492311\n",
      "5    27 -0.229745\n",
      "6    29  0.032821\n",
      "7    30  0.164104\n",
      "8    31  0.295386\n",
      "9    32  0.426669\n",
      "10   33  0.557952\n",
      "11   50  2.789761\n",
      "---------------------------------------\n"
     ]
    }
   ],
   "source": [
    "# Step 5: Print The data\n",
    "print(\"---------------------------------------\")\n",
    "print(f\"Here is the data with outliers:\\n {df}\")\n",
    "print(\"---------------------------------------\")"
   ]
  },
  {
   "cell_type": "code",
   "execution_count": 11,
   "metadata": {},
   "outputs": [
    {
     "name": "stdout",
     "output_type": "stream",
     "text": [
      "Here are outliers based on Z-Score threshold, 2:\n",
      "     Age   Z-Score\n",
      "11   50  2.789761\n",
      "-----------------------------------\n"
     ]
    }
   ],
   "source": [
    "\n",
    "# Step 6: Print The outliers\n",
    "print(f\"Here are outliers based on Z-Score threshold, 2:\\n {df[df['Z-Score'] > 2]}\")\n",
    "print(\"-----------------------------------\")"
   ]
  },
  {
   "cell_type": "code",
   "execution_count": 12,
   "metadata": {},
   "outputs": [
    {
     "name": "stdout",
     "output_type": "stream",
     "text": [
      "Here is the data without outliers:\n",
      "     Age   Z-Score\n",
      "0    20 -1.148725\n",
      "1    21 -1.017442\n",
      "2    23 -0.754876\n",
      "3    24 -0.623594\n",
      "4    25 -0.492311\n",
      "5    27 -0.229745\n",
      "6    29  0.032821\n",
      "7    30  0.164104\n",
      "8    31  0.295386\n",
      "9    32  0.426669\n",
      "10   33  0.557952\n"
     ]
    }
   ],
   "source": [
    "# Step 7: Remove the Outliers\n",
    "df = df[df['Z-Score'] <= 2]\n",
    "\n",
    "#Step 8: Print the data without Outliers\n",
    "print(f\"Here is the data without outliers:\\n {df}\")"
   ]
  },
  {
   "cell_type": "markdown",
   "metadata": {},
   "source": [
    "#### As you can see, there was an outliers in the dataset and it has been handled. Now we will use numpy and scipy library to handle outliers."
   ]
  },
  {
   "cell_type": "code",
   "execution_count": 13,
   "metadata": {},
   "outputs": [],
   "source": [
    "# Import Libraries \n",
    "import numpy as np\n",
    "from scipy import stats"
   ]
  },
  {
   "cell_type": "code",
   "execution_count": 16,
   "metadata": {},
   "outputs": [
    {
     "data": {
      "text/plain": [
       "[2.5, 2.9, 3.1, 3.3, 3.7, 4.0, 4.4, 4.7, 4.9, 110.0]"
      ]
     },
     "execution_count": 16,
     "metadata": {},
     "output_type": "execute_result"
    }
   ],
   "source": [
    "# Sample Data\n",
    "df = [2.5, 2.9, 3.1, 3.3, 3.7, 4.0, 4.4, 4.7, 4.9, 110.0]\n",
    "df"
   ]
  },
  {
   "cell_type": "code",
   "execution_count": 17,
   "metadata": {},
   "outputs": [
    {
     "data": {
      "text/plain": [
       "array([0.37156492, 0.35902265, 0.35275151, 0.34648037, 0.3339381 ,\n",
       "       0.32453139, 0.31198911, 0.30258241, 0.29631127, 2.99917172])"
      ]
     },
     "execution_count": 17,
     "metadata": {},
     "output_type": "execute_result"
    }
   ],
   "source": [
    "# Calculate Z-Scores for each data point\n",
    "z_scores = np.abs(stats.zscore(df))\n",
    "z_scores"
   ]
  },
  {
   "cell_type": "code",
   "execution_count": 18,
   "metadata": {},
   "outputs": [],
   "source": [
    "# Set a threshold for outliers\n",
    "Threshold = 2.5\n",
    "outliers = np.where(z_scores > Threshold)[0]"
   ]
  },
  {
   "cell_type": "code",
   "execution_count": 20,
   "metadata": {},
   "outputs": [
    {
     "name": "stdout",
     "output_type": "stream",
     "text": [
      "--------------------------------------\n",
      "Data:  [2.5, 2.9, 3.1, 3.3, 3.7, 4.0, 4.4, 4.7, 4.9, 110.0]\n",
      "--------------------------------------\n",
      "Indices of outliers:  [9]\n",
      "Outliers:  [110.0]\n"
     ]
    }
   ],
   "source": [
    "# Print the data\n",
    "print(\"--------------------------------------\")\n",
    "print(\"Data: \", df)\n",
    "print(\"--------------------------------------\")\n",
    "\n",
    "print(\"Indices of outliers: \", outliers)\n",
    "print(\"Outliers: \", [df[i] for i in outliers])"
   ]
  },
  {
   "cell_type": "code",
   "execution_count": 21,
   "metadata": {},
   "outputs": [
    {
     "name": "stdout",
     "output_type": "stream",
     "text": [
      "--------------------------------------------\n",
      "Data without outliers: [2.5, 2.9, 3.1, 3.3, 3.7, 4.0, 4.4, 4.7, 4.9]\n"
     ]
    }
   ],
   "source": [
    "# Remove the outliers\n",
    "df = [df[i] for i in range(len(df)) if i not in outliers]\n",
    "print(\"--------------------------------------------\")\n",
    "print(\"Data without outliers:\", df)"
   ]
  },
  {
   "cell_type": "markdown",
   "metadata": {},
   "source": [
    "#### Another method to handle outliers is kmeans clustering."
   ]
  },
  {
   "cell_type": "code",
   "execution_count": 40,
   "metadata": {},
   "outputs": [
    {
     "name": "stdout",
     "output_type": "stream",
     "text": [
      "Data:  [[2, 2], [3, 3], [4, 4], [30, 30], [31, 31], [32, 32]]\n",
      "Outliers:  [[30, 30], [31, 31], [32, 32]]\n",
      "Data without outliers:  [[2, 2], [3, 3], [4, 4]]\n"
     ]
    }
   ],
   "source": [
    "# Import Libraries\n",
    "from sklearn.cluster import KMeans\n",
    "\n",
    "# Sample Data\n",
    "df = [[2, 2], [3, 3], [4, 4], [30, 30], [31, 31], [32, 32]]\n",
    "\n",
    "# Create a kmeans model with two clusters (normal and outlier)\n",
    "kmeans = KMeans(n_clusters=2, n_init=10)\n",
    "kmeans.fit(df)\n",
    "\n",
    "# Predict cluster labels\n",
    "labels = kmeans.predict(df)\n",
    "\n",
    "# Identify outliers based on cluster labels\n",
    "outliers = [df[i] for i, label in enumerate(labels) if label == 1]\n",
    "\n",
    "# Print Data\n",
    "print(\"Data: \", df)\n",
    "print(\"Outliers: \", outliers)\n",
    "\n",
    "# Remove outliers\n",
    "df = [df[i] for i, label in enumerate(labels) if label == 0]\n",
    "print(\"Data without outliers: \", df)"
   ]
  }
 ],
 "metadata": {
  "kernelspec": {
   "display_name": "Python 3",
   "language": "python",
   "name": "python3"
  },
  "language_info": {
   "codemirror_mode": {
    "name": "ipython",
    "version": 3
   },
   "file_extension": ".py",
   "mimetype": "text/x-python",
   "name": "python",
   "nbconvert_exporter": "python",
   "pygments_lexer": "ipython3",
   "version": "3.12.1"
  }
 },
 "nbformat": 4,
 "nbformat_minor": 2
}
